{
 "cells": [
  {
   "cell_type": "markdown",
   "id": "9943655c",
   "metadata": {},
   "source": [
    "### Movie Ranking ###\n",
    "The purpose of this notbook is to import, clean, and combine two datasets to get the necessary sets of data to create a finalized table. The table will be used to build an interactive dashboard ranking different genres and movies from 1960's to 2010's.\n",
    "\n",
    "Objectives:\n",
    "- Import necessary files\n",
    "- Inspect tables to identify errors and necessary data\n",
    "- Clean and filter out the unncessary data\n",
    "- Merge the tables to a final file (1960-2010_Movies.csv')"
   ]
  },
  {
   "cell_type": "code",
   "execution_count": 1,
   "id": "b053a3f2",
   "metadata": {},
   "outputs": [],
   "source": [
    "import pandas as pd"
   ]
  },
  {
   "cell_type": "code",
   "execution_count": 52,
   "id": "69c3f45a",
   "metadata": {},
   "outputs": [],
   "source": [
    "df_rating = pd.read_csv('/Users/noshintasnim/Downloads/title.ratings.tsv', sep='\\t')\n",
    "df_basics = pd.read_csv('/Users/noshintasnim/Downloads/title.basics.tsv', sep = '\\t')"
   ]
  },
  {
   "cell_type": "code",
   "execution_count": 53,
   "id": "d5d53d42",
   "metadata": {},
   "outputs": [],
   "source": [
    "pd.set_option('display.max_columns', 500)\n",
    "pd.set_option('display.max_rows', 500) "
   ]
  },
  {
   "cell_type": "code",
   "execution_count": 54,
   "id": "ab95f756",
   "metadata": {},
   "outputs": [
    {
     "data": {
      "text/html": [
       "<div>\n",
       "<style scoped>\n",
       "    .dataframe tbody tr th:only-of-type {\n",
       "        vertical-align: middle;\n",
       "    }\n",
       "\n",
       "    .dataframe tbody tr th {\n",
       "        vertical-align: top;\n",
       "    }\n",
       "\n",
       "    .dataframe thead th {\n",
       "        text-align: right;\n",
       "    }\n",
       "</style>\n",
       "<table border=\"1\" class=\"dataframe\">\n",
       "  <thead>\n",
       "    <tr style=\"text-align: right;\">\n",
       "      <th></th>\n",
       "      <th>tconst</th>\n",
       "      <th>averageRating</th>\n",
       "      <th>numVotes</th>\n",
       "    </tr>\n",
       "  </thead>\n",
       "  <tbody>\n",
       "    <tr>\n",
       "      <th>1602761</th>\n",
       "      <td>tt9916852</td>\n",
       "      <td>5.8</td>\n",
       "      <td>6</td>\n",
       "    </tr>\n",
       "    <tr>\n",
       "      <th>1602762</th>\n",
       "      <td>tt9916880</td>\n",
       "      <td>7.7</td>\n",
       "      <td>10</td>\n",
       "    </tr>\n",
       "  </tbody>\n",
       "</table>\n",
       "</div>"
      ],
      "text/plain": [
       "            tconst  averageRating  numVotes\n",
       "1602761  tt9916852            5.8         6\n",
       "1602762  tt9916880            7.7        10"
      ]
     },
     "execution_count": 54,
     "metadata": {},
     "output_type": "execute_result"
    }
   ],
   "source": [
    "df_rating.tail(2)"
   ]
  },
  {
   "cell_type": "code",
   "execution_count": 55,
   "id": "f6770c0d",
   "metadata": {},
   "outputs": [
    {
     "data": {
      "text/html": [
       "<div>\n",
       "<style scoped>\n",
       "    .dataframe tbody tr th:only-of-type {\n",
       "        vertical-align: middle;\n",
       "    }\n",
       "\n",
       "    .dataframe tbody tr th {\n",
       "        vertical-align: top;\n",
       "    }\n",
       "\n",
       "    .dataframe thead th {\n",
       "        text-align: right;\n",
       "    }\n",
       "</style>\n",
       "<table border=\"1\" class=\"dataframe\">\n",
       "  <thead>\n",
       "    <tr style=\"text-align: right;\">\n",
       "      <th></th>\n",
       "      <th>tconst</th>\n",
       "      <th>titleType</th>\n",
       "      <th>primaryTitle</th>\n",
       "      <th>originalTitle</th>\n",
       "      <th>isAdult</th>\n",
       "      <th>startYear</th>\n",
       "      <th>endYear</th>\n",
       "      <th>runtimeMinutes</th>\n",
       "      <th>genres</th>\n",
       "    </tr>\n",
       "  </thead>\n",
       "  <tbody>\n",
       "    <tr>\n",
       "      <th>11843939</th>\n",
       "      <td>tt9916856</td>\n",
       "      <td>short</td>\n",
       "      <td>The Wind</td>\n",
       "      <td>The Wind</td>\n",
       "      <td>0</td>\n",
       "      <td>2015</td>\n",
       "      <td>\\N</td>\n",
       "      <td>27</td>\n",
       "      <td>Short</td>\n",
       "    </tr>\n",
       "    <tr>\n",
       "      <th>11843940</th>\n",
       "      <td>tt9916880</td>\n",
       "      <td>tvEpisode</td>\n",
       "      <td>Horrid Henry Knows It All</td>\n",
       "      <td>Horrid Henry Knows It All</td>\n",
       "      <td>0</td>\n",
       "      <td>2014</td>\n",
       "      <td>\\N</td>\n",
       "      <td>10</td>\n",
       "      <td>Adventure,Animation,Comedy</td>\n",
       "    </tr>\n",
       "  </tbody>\n",
       "</table>\n",
       "</div>"
      ],
      "text/plain": [
       "             tconst  titleType               primaryTitle  \\\n",
       "11843939  tt9916856      short                   The Wind   \n",
       "11843940  tt9916880  tvEpisode  Horrid Henry Knows It All   \n",
       "\n",
       "                      originalTitle  isAdult startYear endYear runtimeMinutes  \\\n",
       "11843939                   The Wind        0      2015      \\N             27   \n",
       "11843940  Horrid Henry Knows It All        0      2014      \\N             10   \n",
       "\n",
       "                              genres  \n",
       "11843939                       Short  \n",
       "11843940  Adventure,Animation,Comedy  "
      ]
     },
     "execution_count": 55,
     "metadata": {},
     "output_type": "execute_result"
    }
   ],
   "source": [
    "df_basics.tail(2)"
   ]
  },
  {
   "cell_type": "code",
   "execution_count": null,
   "id": "9d11e44f",
   "metadata": {},
   "outputs": [],
   "source": [
    "# Cleaning the data to only include movies from 1960 to 2010\n",
    "df_basics['startYear'] = pd.to_numeric(df_basics['startYear'], errors='coerce')\n",
    "df_basics_fil = df_basics[(df_basics['startYear'] >= 1960) & (df_basics['startYear'] <= 2010)]\n"
   ]
  },
  {
   "cell_type": "code",
   "execution_count": 57,
   "id": "d0bc2794",
   "metadata": {},
   "outputs": [
    {
     "data": {
      "text/html": [
       "<div>\n",
       "<style scoped>\n",
       "    .dataframe tbody tr th:only-of-type {\n",
       "        vertical-align: middle;\n",
       "    }\n",
       "\n",
       "    .dataframe tbody tr th {\n",
       "        vertical-align: top;\n",
       "    }\n",
       "\n",
       "    .dataframe thead th {\n",
       "        text-align: right;\n",
       "    }\n",
       "</style>\n",
       "<table border=\"1\" class=\"dataframe\">\n",
       "  <thead>\n",
       "    <tr style=\"text-align: right;\">\n",
       "      <th></th>\n",
       "      <th>tconst</th>\n",
       "      <th>titleType</th>\n",
       "      <th>primaryTitle</th>\n",
       "      <th>originalTitle</th>\n",
       "      <th>isAdult</th>\n",
       "      <th>startYear</th>\n",
       "      <th>endYear</th>\n",
       "      <th>runtimeMinutes</th>\n",
       "      <th>genres</th>\n",
       "    </tr>\n",
       "  </thead>\n",
       "  <tbody>\n",
       "    <tr>\n",
       "      <th>919</th>\n",
       "      <td>tt0000929</td>\n",
       "      <td>short</td>\n",
       "      <td>Klebolin klebt alles</td>\n",
       "      <td>Klebolin klebt alles</td>\n",
       "      <td>0</td>\n",
       "      <td>1990.0</td>\n",
       "      <td>\\N</td>\n",
       "      <td>\\N</td>\n",
       "      <td>Comedy,Short</td>\n",
       "    </tr>\n",
       "    <tr>\n",
       "      <th>965</th>\n",
       "      <td>tt0000977</td>\n",
       "      <td>short</td>\n",
       "      <td>Mutterliebe</td>\n",
       "      <td>Mutterliebe</td>\n",
       "      <td>0</td>\n",
       "      <td>1990.0</td>\n",
       "      <td>\\N</td>\n",
       "      <td>\\N</td>\n",
       "      <td>Short</td>\n",
       "    </tr>\n",
       "  </tbody>\n",
       "</table>\n",
       "</div>"
      ],
      "text/plain": [
       "        tconst titleType          primaryTitle         originalTitle  isAdult  \\\n",
       "919  tt0000929     short  Klebolin klebt alles  Klebolin klebt alles        0   \n",
       "965  tt0000977     short           Mutterliebe           Mutterliebe        0   \n",
       "\n",
       "     startYear endYear runtimeMinutes        genres  \n",
       "919     1990.0      \\N             \\N  Comedy,Short  \n",
       "965     1990.0      \\N             \\N         Short  "
      ]
     },
     "execution_count": 57,
     "metadata": {},
     "output_type": "execute_result"
    }
   ],
   "source": [
    "df_basics_fil.head(2)"
   ]
  },
  {
   "cell_type": "code",
   "execution_count": 58,
   "id": "a76b1c70",
   "metadata": {},
   "outputs": [
    {
     "data": {
      "text/html": [
       "<div>\n",
       "<style scoped>\n",
       "    .dataframe tbody tr th:only-of-type {\n",
       "        vertical-align: middle;\n",
       "    }\n",
       "\n",
       "    .dataframe tbody tr th {\n",
       "        vertical-align: top;\n",
       "    }\n",
       "\n",
       "    .dataframe thead th {\n",
       "        text-align: right;\n",
       "    }\n",
       "</style>\n",
       "<table border=\"1\" class=\"dataframe\">\n",
       "  <thead>\n",
       "    <tr style=\"text-align: right;\">\n",
       "      <th></th>\n",
       "      <th>tconst</th>\n",
       "      <th>titleType</th>\n",
       "      <th>primaryTitle</th>\n",
       "      <th>originalTitle</th>\n",
       "      <th>isAdult</th>\n",
       "      <th>startYear</th>\n",
       "      <th>endYear</th>\n",
       "      <th>runtimeMinutes</th>\n",
       "      <th>genres</th>\n",
       "      <th>averageRating</th>\n",
       "      <th>numVotes</th>\n",
       "    </tr>\n",
       "  </thead>\n",
       "  <tbody>\n",
       "    <tr>\n",
       "      <th>0</th>\n",
       "      <td>tt0000929</td>\n",
       "      <td>short</td>\n",
       "      <td>Klebolin klebt alles</td>\n",
       "      <td>Klebolin klebt alles</td>\n",
       "      <td>0</td>\n",
       "      <td>1990.0</td>\n",
       "      <td>\\N</td>\n",
       "      <td>\\N</td>\n",
       "      <td>Comedy,Short</td>\n",
       "      <td>5.3</td>\n",
       "      <td>51</td>\n",
       "    </tr>\n",
       "    <tr>\n",
       "      <th>1</th>\n",
       "      <td>tt0015724</td>\n",
       "      <td>movie</td>\n",
       "      <td>Dama de noche</td>\n",
       "      <td>Dama de noche</td>\n",
       "      <td>0</td>\n",
       "      <td>1993.0</td>\n",
       "      <td>\\N</td>\n",
       "      <td>102</td>\n",
       "      <td>Drama,Mystery,Romance</td>\n",
       "      <td>6.3</td>\n",
       "      <td>33</td>\n",
       "    </tr>\n",
       "  </tbody>\n",
       "</table>\n",
       "</div>"
      ],
      "text/plain": [
       "      tconst titleType          primaryTitle         originalTitle  isAdult  \\\n",
       "0  tt0000929     short  Klebolin klebt alles  Klebolin klebt alles        0   \n",
       "1  tt0015724     movie         Dama de noche         Dama de noche        0   \n",
       "\n",
       "   startYear endYear runtimeMinutes                 genres  averageRating  \\\n",
       "0     1990.0      \\N             \\N           Comedy,Short            5.3   \n",
       "1     1993.0      \\N            102  Drama,Mystery,Romance            6.3   \n",
       "\n",
       "   numVotes  \n",
       "0        51  \n",
       "1        33  "
      ]
     },
     "execution_count": 58,
     "metadata": {},
     "output_type": "execute_result"
    }
   ],
   "source": [
    "df_merge = pd.merge(df_basics_fil, df_rating, on = 'tconst', how = 'inner')\n",
    "df_merge.head(2)"
   ]
  },
  {
   "cell_type": "code",
   "execution_count": 59,
   "id": "d3cb5dfd",
   "metadata": {},
   "outputs": [
    {
     "name": "stdout",
     "output_type": "stream",
     "text": [
      "<class 'pandas.core.frame.DataFrame'>\n",
      "RangeIndex: 674225 entries, 0 to 674224\n",
      "Data columns (total 11 columns):\n",
      " #   Column          Non-Null Count   Dtype  \n",
      "---  ------          --------------   -----  \n",
      " 0   tconst          674225 non-null  object \n",
      " 1   titleType       674225 non-null  object \n",
      " 2   primaryTitle    674225 non-null  object \n",
      " 3   originalTitle   674225 non-null  object \n",
      " 4   isAdult         674225 non-null  int64  \n",
      " 5   startYear       674225 non-null  float64\n",
      " 6   endYear         674225 non-null  object \n",
      " 7   runtimeMinutes  674225 non-null  object \n",
      " 8   genres          674225 non-null  object \n",
      " 9   averageRating   674225 non-null  float64\n",
      " 10  numVotes        674225 non-null  int64  \n",
      "dtypes: float64(2), int64(2), object(7)\n",
      "memory usage: 56.6+ MB\n"
     ]
    },
    {
     "data": {
      "text/plain": [
       "tconst            0\n",
       "titleType         0\n",
       "primaryTitle      0\n",
       "originalTitle     0\n",
       "isAdult           0\n",
       "startYear         0\n",
       "endYear           0\n",
       "runtimeMinutes    0\n",
       "genres            0\n",
       "averageRating     0\n",
       "numVotes          0\n",
       "dtype: int64"
      ]
     },
     "execution_count": 59,
     "metadata": {},
     "output_type": "execute_result"
    }
   ],
   "source": [
    "df_merge.info()\n",
    "df_merge.describe(include='all').transpose()\n",
    "df_merge.isnull().sum().sort_values(ascending=False)    "
   ]
  },
  {
   "cell_type": "code",
   "execution_count": 60,
   "id": "f3263e17",
   "metadata": {},
   "outputs": [],
   "source": [
    "cols_to_drop = ['endyear', 'numvotes', 'originaltitle', 'titletype', 'isadult']\n",
    "dfs = [df_merge]\n",
    "for df in dfs:\n",
    "    df.columns = df.columns.str.lower().str.strip().str.replace(' ', '_')\n",
    "    df.drop(columns = [cols for cols in cols_to_drop if cols in df.columns], inplace =True)\n",
    "df_merge = df_merge.sort_values(by='startyear', ascending=True)\n",
    "df_merge = df_merge.reset_index(drop=True)\n",
    "expected_columns = ['tconst', 'primary_title', 'genres', 'startyear', 'average_rating']"
   ]
  },
  {
   "cell_type": "code",
   "execution_count": 61,
   "id": "3f3532d6",
   "metadata": {},
   "outputs": [
    {
     "data": {
      "text/html": [
       "<div>\n",
       "<style scoped>\n",
       "    .dataframe tbody tr th:only-of-type {\n",
       "        vertical-align: middle;\n",
       "    }\n",
       "\n",
       "    .dataframe tbody tr th {\n",
       "        vertical-align: top;\n",
       "    }\n",
       "\n",
       "    .dataframe thead th {\n",
       "        text-align: right;\n",
       "    }\n",
       "</style>\n",
       "<table border=\"1\" class=\"dataframe\">\n",
       "  <thead>\n",
       "    <tr style=\"text-align: right;\">\n",
       "      <th></th>\n",
       "      <th>tconst</th>\n",
       "      <th>primarytitle</th>\n",
       "      <th>startyear</th>\n",
       "      <th>runtimeminutes</th>\n",
       "      <th>genres</th>\n",
       "      <th>averagerating</th>\n",
       "    </tr>\n",
       "  </thead>\n",
       "  <tbody>\n",
       "    <tr>\n",
       "      <th>0</th>\n",
       "      <td>tt0597557</td>\n",
       "      <td>Out at the Old Ball Park</td>\n",
       "      <td>1960.0</td>\n",
       "      <td>30</td>\n",
       "      <td>Western</td>\n",
       "      <td>7.1</td>\n",
       "    </tr>\n",
       "    <tr>\n",
       "      <th>1</th>\n",
       "      <td>tt0256922</td>\n",
       "      <td>The Big Trick</td>\n",
       "      <td>1960.0</td>\n",
       "      <td>95</td>\n",
       "      <td>Crime,Drama</td>\n",
       "      <td>5.2</td>\n",
       "    </tr>\n",
       "  </tbody>\n",
       "</table>\n",
       "</div>"
      ],
      "text/plain": [
       "      tconst              primarytitle  startyear runtimeminutes       genres  \\\n",
       "0  tt0597557  Out at the Old Ball Park     1960.0             30      Western   \n",
       "1  tt0256922             The Big Trick     1960.0             95  Crime,Drama   \n",
       "\n",
       "   averagerating  \n",
       "0            7.1  \n",
       "1            5.2  "
      ]
     },
     "execution_count": 61,
     "metadata": {},
     "output_type": "execute_result"
    }
   ],
   "source": [
    "df_movie = df_merge\n",
    "df_movie.head(2)"
   ]
  },
  {
   "cell_type": "code",
   "execution_count": 62,
   "id": "fc3e6025",
   "metadata": {},
   "outputs": [
    {
     "data": {
      "text/html": [
       "<div>\n",
       "<style scoped>\n",
       "    .dataframe tbody tr th:only-of-type {\n",
       "        vertical-align: middle;\n",
       "    }\n",
       "\n",
       "    .dataframe tbody tr th {\n",
       "        vertical-align: top;\n",
       "    }\n",
       "\n",
       "    .dataframe thead th {\n",
       "        text-align: right;\n",
       "    }\n",
       "</style>\n",
       "<table border=\"1\" class=\"dataframe\">\n",
       "  <thead>\n",
       "    <tr style=\"text-align: right;\">\n",
       "      <th></th>\n",
       "      <th>tconst</th>\n",
       "      <th>primarytitle</th>\n",
       "      <th>startyear</th>\n",
       "      <th>runtimeminutes</th>\n",
       "      <th>genres</th>\n",
       "      <th>averagerating</th>\n",
       "    </tr>\n",
       "  </thead>\n",
       "  <tbody>\n",
       "    <tr>\n",
       "      <th>674223</th>\n",
       "      <td>tt1764754</td>\n",
       "      <td>Zise san batsos psofa san skylos</td>\n",
       "      <td>2010.0</td>\n",
       "      <td>40</td>\n",
       "      <td>Action,Comedy,Short</td>\n",
       "      <td>4.1</td>\n",
       "    </tr>\n",
       "    <tr>\n",
       "      <th>674224</th>\n",
       "      <td>tt9916852</td>\n",
       "      <td>Episode #3.20</td>\n",
       "      <td>2010.0</td>\n",
       "      <td>\\N</td>\n",
       "      <td>Drama</td>\n",
       "      <td>5.8</td>\n",
       "    </tr>\n",
       "  </tbody>\n",
       "</table>\n",
       "</div>"
      ],
      "text/plain": [
       "           tconst                      primarytitle  startyear runtimeminutes  \\\n",
       "674223  tt1764754  Zise san batsos psofa san skylos     2010.0             40   \n",
       "674224  tt9916852                     Episode #3.20     2010.0             \\N   \n",
       "\n",
       "                     genres  averagerating  \n",
       "674223  Action,Comedy,Short            4.1  \n",
       "674224                Drama            5.8  "
      ]
     },
     "execution_count": 62,
     "metadata": {},
     "output_type": "execute_result"
    }
   ],
   "source": [
    "df_movie.tail(2)"
   ]
  },
  {
   "cell_type": "code",
   "execution_count": 66,
   "id": "e26a88ab",
   "metadata": {},
   "outputs": [],
   "source": [
    "df_movie.to_csv('1960-2010_Movies.csv', index = False)"
   ]
  }
 ],
 "metadata": {
  "kernelspec": {
   "display_name": "base",
   "language": "python",
   "name": "python3"
  },
  "language_info": {
   "codemirror_mode": {
    "name": "ipython",
    "version": 3
   },
   "file_extension": ".py",
   "mimetype": "text/x-python",
   "name": "python",
   "nbconvert_exporter": "python",
   "pygments_lexer": "ipython3",
   "version": "3.12.7"
  }
 },
 "nbformat": 4,
 "nbformat_minor": 5
}
